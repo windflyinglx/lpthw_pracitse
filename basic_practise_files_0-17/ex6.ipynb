{
 "cells": [
  {
   "cell_type": "code",
   "execution_count": 9,
   "metadata": {
    "collapsed": false
   },
   "outputs": [
    {
     "name": "stdout",
     "output_type": "stream",
     "text": [
      "There are 10 types of people.\n",
      "Those who know binary and those who don't.\n"
     ]
    }
   ],
   "source": [
    "x = \"There are %d types of people.\" % 10\n",
    "binary = \"binary\"\n",
    "do_not = \"don't\"\n",
    "y = \"Those who know %s and those who %s.\" % (binary, do_not)\n",
    "print x\n",
    "print y"
   ]
  },
  {
   "cell_type": "code",
   "execution_count": 3,
   "metadata": {
    "collapsed": false
   },
   "outputs": [
    {
     "name": "stdout",
     "output_type": "stream",
     "text": [
      "I said: 'There are 10 types of people.'.\n"
     ]
    }
   ],
   "source": [
    "print \"I said: %r.\" % x"
   ]
  },
  {
   "cell_type": "code",
   "execution_count": 4,
   "metadata": {
    "collapsed": false
   },
   "outputs": [
    {
     "name": "stdout",
     "output_type": "stream",
     "text": [
      "I also said: 'Those who know binary and those who don't.'.\n"
     ]
    }
   ],
   "source": [
    "print \"I also said: '%s'.\" % y"
   ]
  },
  {
   "cell_type": "code",
   "execution_count": 8,
   "metadata": {
    "collapsed": false
   },
   "outputs": [
    {
     "name": "stdout",
     "output_type": "stream",
     "text": [
      "Isn't that joke so funny?! False\n"
     ]
    }
   ],
   "source": [
    "hilarious = False\n",
    "joke_evaluation = \"Isn't that joke so funny?! %r\"\n",
    "print joke_evaluation % hilarious\n"
   ]
  },
  {
   "cell_type": "code",
   "execution_count": 6,
   "metadata": {
    "collapsed": false
   },
   "outputs": [
    {
     "name": "stdout",
     "output_type": "stream",
     "text": [
      "This is the left side of...a string with a right side.\n"
     ]
    }
   ],
   "source": [
    "w = \"This is the left side of...\"\n",
    "e = \"a string with a right side.\"\n",
    "print w + e"
   ]
  },
  {
   "cell_type": "code",
   "execution_count": 24,
   "metadata": {
    "collapsed": false
   },
   "outputs": [
    {
     "name": "stdout",
     "output_type": "stream",
     "text": [
      "What is your name\n",
      "My mom asked him 'What is your name' \n"
     ]
    }
   ],
   "source": [
    "x = \"What is your %s\"  %\"name\"\n",
    "print x\n",
    "print \"My mom asked him %r \" %x"
   ]
  },
  {
   "cell_type": "code",
   "execution_count": 40,
   "metadata": {
    "collapsed": false
   },
   "outputs": [],
   "source": [
    "gender = \"boy\"\n",
    "y = \"I am not a good %s\" %gender\n",
    "yy = \"my mum said %r \" %y\n",
    "yyy = \"my grandpa said %s and I don't believe that %s\" %(yy , y)"
   ]
  },
  {
   "cell_type": "code",
   "execution_count": 41,
   "metadata": {
    "collapsed": false
   },
   "outputs": [
    {
     "data": {
      "text/plain": [
       "'I am not a good boy'"
      ]
     },
     "execution_count": 41,
     "metadata": {},
     "output_type": "execute_result"
    }
   ],
   "source": [
    "y"
   ]
  },
  {
   "cell_type": "code",
   "execution_count": 42,
   "metadata": {
    "collapsed": false
   },
   "outputs": [
    {
     "data": {
      "text/plain": [
       "\"my mum said 'I am not a good boy' \""
      ]
     },
     "execution_count": 42,
     "metadata": {},
     "output_type": "execute_result"
    }
   ],
   "source": [
    "yy"
   ]
  },
  {
   "cell_type": "code",
   "execution_count": 43,
   "metadata": {
    "collapsed": false
   },
   "outputs": [
    {
     "data": {
      "text/plain": [
       "\"my grandpa said my mum said 'I am not a good boy'  and I don't believe that I am not a good boy\""
      ]
     },
     "execution_count": 43,
     "metadata": {},
     "output_type": "execute_result"
    }
   ],
   "source": [
    "yyy"
   ]
  },
  {
   "cell_type": "code",
   "execution_count": null,
   "metadata": {
    "collapsed": true
   },
   "outputs": [],
   "source": []
  }
 ],
 "metadata": {
  "kernelspec": {
   "display_name": "Python [Root]",
   "language": "python",
   "name": "Python [Root]"
  },
  "language_info": {
   "codemirror_mode": {
    "name": "ipython",
    "version": 2
   },
   "file_extension": ".py",
   "mimetype": "text/x-python",
   "name": "python",
   "nbconvert_exporter": "python",
   "pygments_lexer": "ipython2",
   "version": "2.7.12"
  }
 },
 "nbformat": 4,
 "nbformat_minor": 0
}
